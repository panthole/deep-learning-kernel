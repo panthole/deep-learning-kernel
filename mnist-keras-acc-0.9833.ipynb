{
 "cells": [
  {
   "cell_type": "code",
   "execution_count": 1,
   "metadata": {},
   "outputs": [
    {
     "name": "stderr",
     "output_type": "stream",
     "text": [
      "Using TensorFlow backend.\n",
      "/usr/local/lib/python3.6/importlib/_bootstrap.py:219: RuntimeWarning: compiletime version 3.5 of module 'tensorflow.python.framework.fast_tensor_util' does not match runtime version 3.6\n",
      "  return f(*args, **kwds)\n"
     ]
    }
   ],
   "source": [
    "from keras.datasets import mnist\n",
    "(train_images,train_labels),(test_images,test_labels) = mnist.load_data() "
   ]
  },
  {
   "cell_type": "code",
   "execution_count": 2,
   "metadata": {},
   "outputs": [
    {
     "data": {
      "text/plain": [
       "(60000, 28, 28)"
      ]
     },
     "execution_count": 2,
     "metadata": {},
     "output_type": "execute_result"
    }
   ],
   "source": [
    "train_images.shape"
   ]
  },
  {
   "cell_type": "code",
   "execution_count": 3,
   "metadata": {},
   "outputs": [
    {
     "data": {
      "text/plain": [
       "60000"
      ]
     },
     "execution_count": 3,
     "metadata": {},
     "output_type": "execute_result"
    }
   ],
   "source": [
    "len(train_labels)"
   ]
  },
  {
   "cell_type": "code",
   "execution_count": 4,
   "metadata": {},
   "outputs": [
    {
     "data": {
      "text/plain": [
       "array([5, 0, 4, ..., 5, 6, 8], dtype=uint8)"
      ]
     },
     "execution_count": 4,
     "metadata": {},
     "output_type": "execute_result"
    }
   ],
   "source": [
    "train_labels"
   ]
  },
  {
   "cell_type": "code",
   "execution_count": 5,
   "metadata": {},
   "outputs": [
    {
     "data": {
      "text/plain": [
       "(10000, 28, 28)"
      ]
     },
     "execution_count": 5,
     "metadata": {},
     "output_type": "execute_result"
    }
   ],
   "source": [
    "test_images.shape"
   ]
  },
  {
   "cell_type": "code",
   "execution_count": 6,
   "metadata": {},
   "outputs": [
    {
     "data": {
      "text/plain": [
       "10000"
      ]
     },
     "execution_count": 6,
     "metadata": {},
     "output_type": "execute_result"
    }
   ],
   "source": [
    "len(test_labels)"
   ]
  },
  {
   "cell_type": "code",
   "execution_count": 7,
   "metadata": {},
   "outputs": [
    {
     "data": {
      "text/plain": [
       "array([7, 2, 1, ..., 4, 5, 6], dtype=uint8)"
      ]
     },
     "execution_count": 7,
     "metadata": {},
     "output_type": "execute_result"
    }
   ],
   "source": [
    "test_labels"
   ]
  },
  {
   "cell_type": "code",
   "execution_count": 8,
   "metadata": {},
   "outputs": [],
   "source": [
    "from keras import models\n",
    "from keras import layers\n",
    "\n",
    "network = models.Sequential()\n",
    "network.add(layers.Dense(512,activation='relu',input_shape=(28 * 28,)))\n",
    "network.add(layers.Dense(256,activation='relu',input_shape=(28 * 28,)))\n",
    "network.add(layers.Dense(10,activation='softmax'))"
   ]
  },
  {
   "cell_type": "code",
   "execution_count": 9,
   "metadata": {},
   "outputs": [],
   "source": [
    "network.compile(optimizer='rmsprop',loss='categorical_crossentropy',metrics=['accuracy'])"
   ]
  },
  {
   "cell_type": "code",
   "execution_count": 10,
   "metadata": {},
   "outputs": [],
   "source": [
    "train_images = train_images.reshape((60000,28*28))\n",
    "train_images = train_images.astype('float32')/255\n",
    "\n",
    "test_images = test_images.reshape((10000,28*28))\n",
    "test_images = test_images.astype('float32')/255"
   ]
  },
  {
   "cell_type": "code",
   "execution_count": 11,
   "metadata": {},
   "outputs": [],
   "source": [
    "from keras.utils import to_categorical\n",
    "\n",
    "train_labels = to_categorical(train_labels)\n",
    "test_labels = to_categorical(test_labels)"
   ]
  },
  {
   "cell_type": "code",
   "execution_count": 12,
   "metadata": {},
   "outputs": [
    {
     "name": "stdout",
     "output_type": "stream",
     "text": [
      "Epoch 1/50\n",
      "60000/60000 [==============================] - 1s - loss: 0.2840 - acc: 0.9136     \n",
      "Epoch 2/50\n",
      "60000/60000 [==============================] - 1s - loss: 0.0984 - acc: 0.9693     \n",
      "Epoch 3/50\n",
      "60000/60000 [==============================] - 1s - loss: 0.0622 - acc: 0.9808     \n",
      "Epoch 4/50\n",
      "60000/60000 [==============================] - 1s - loss: 0.0423 - acc: 0.9863     \n",
      "Epoch 5/50\n",
      "60000/60000 [==============================] - 1s - loss: 0.0305 - acc: 0.9901     \n",
      "Epoch 6/50\n",
      "60000/60000 [==============================] - 1s - loss: 0.0231 - acc: 0.9927     \n",
      "Epoch 7/50\n",
      "60000/60000 [==============================] - 1s - loss: 0.0178 - acc: 0.9944     \n",
      "Epoch 8/50\n",
      "60000/60000 [==============================] - 1s - loss: 0.0136 - acc: 0.9954     \n",
      "Epoch 9/50\n",
      "60000/60000 [==============================] - 1s - loss: 0.0109 - acc: 0.9967     \n",
      "Epoch 10/50\n",
      "60000/60000 [==============================] - 1s - loss: 0.0095 - acc: 0.9970     \n",
      "Epoch 11/50\n",
      "60000/60000 [==============================] - 1s - loss: 0.0081 - acc: 0.9972     \n",
      "Epoch 12/50\n",
      "60000/60000 [==============================] - 1s - loss: 0.0060 - acc: 0.9979     \n",
      "Epoch 13/50\n",
      "60000/60000 [==============================] - 1s - loss: 0.0054 - acc: 0.9984     \n",
      "Epoch 14/50\n",
      "60000/60000 [==============================] - 1s - loss: 0.0050 - acc: 0.9983     \n",
      "Epoch 15/50\n",
      "60000/60000 [==============================] - 1s - loss: 0.0051 - acc: 0.9985     \n",
      "Epoch 16/50\n",
      "60000/60000 [==============================] - 1s - loss: 0.0041 - acc: 0.9988     \n",
      "Epoch 17/50\n",
      "60000/60000 [==============================] - 1s - loss: 0.0039 - acc: 0.9988     \n",
      "Epoch 18/50\n",
      "60000/60000 [==============================] - 1s - loss: 0.0034 - acc: 0.9990     \n",
      "Epoch 19/50\n",
      "60000/60000 [==============================] - 1s - loss: 0.0034 - acc: 0.9989     \n",
      "Epoch 20/50\n",
      "60000/60000 [==============================] - 1s - loss: 0.0029 - acc: 0.9993     \n",
      "Epoch 21/50\n",
      "60000/60000 [==============================] - 1s - loss: 0.0034 - acc: 0.9990     \n",
      "Epoch 22/50\n",
      "60000/60000 [==============================] - 1s - loss: 0.0032 - acc: 0.9992     \n",
      "Epoch 23/50\n",
      "60000/60000 [==============================] - 1s - loss: 0.0032 - acc: 0.9991     \n",
      "Epoch 24/50\n",
      "60000/60000 [==============================] - 1s - loss: 0.0024 - acc: 0.9994     \n",
      "Epoch 25/50\n",
      "60000/60000 [==============================] - 1s - loss: 0.0024 - acc: 0.9992     \n",
      "Epoch 26/50\n",
      "60000/60000 [==============================] - 1s - loss: 0.0026 - acc: 0.9992     \n",
      "Epoch 27/50\n",
      "60000/60000 [==============================] - 1s - loss: 0.0023 - acc: 0.9995     \n",
      "Epoch 28/50\n",
      "60000/60000 [==============================] - 1s - loss: 0.0021 - acc: 0.9995     \n",
      "Epoch 29/50\n",
      "60000/60000 [==============================] - 1s - loss: 0.0031 - acc: 0.9992     \n",
      "Epoch 30/50\n",
      "60000/60000 [==============================] - 1s - loss: 0.0034 - acc: 0.9992     \n",
      "Epoch 31/50\n",
      "60000/60000 [==============================] - 1s - loss: 0.0022 - acc: 0.9995     \n",
      "Epoch 32/50\n",
      "60000/60000 [==============================] - 1s - loss: 0.0014 - acc: 0.9997     \n",
      "Epoch 33/50\n",
      "60000/60000 [==============================] - 1s - loss: 0.0020 - acc: 0.9995     \n",
      "Epoch 34/50\n",
      "60000/60000 [==============================] - 1s - loss: 0.0023 - acc: 0.9995     \n",
      "Epoch 35/50\n",
      "60000/60000 [==============================] - 1s - loss: 0.0020 - acc: 0.9995     \n",
      "Epoch 36/50\n",
      "60000/60000 [==============================] - 1s - loss: 0.0024 - acc: 0.9994     \n",
      "Epoch 37/50\n",
      "60000/60000 [==============================] - 1s - loss: 0.0016 - acc: 0.9996     \n",
      "Epoch 38/50\n",
      "60000/60000 [==============================] - 1s - loss: 0.0018 - acc: 0.9996     \n",
      "Epoch 39/50\n",
      "60000/60000 [==============================] - 1s - loss: 0.0013 - acc: 0.9996     \n",
      "Epoch 40/50\n",
      "60000/60000 [==============================] - 1s - loss: 0.0025 - acc: 0.9995     \n",
      "Epoch 41/50\n",
      "60000/60000 [==============================] - 1s - loss: 0.0023 - acc: 0.9995     \n",
      "Epoch 42/50\n",
      "60000/60000 [==============================] - 1s - loss: 9.7818e-04 - acc: 0.9998     \n",
      "Epoch 43/50\n",
      "60000/60000 [==============================] - 1s - loss: 0.0018 - acc: 0.9997     \n",
      "Epoch 44/50\n",
      "60000/60000 [==============================] - 1s - loss: 0.0017 - acc: 0.9997     \n",
      "Epoch 45/50\n",
      "60000/60000 [==============================] - 1s - loss: 0.0026 - acc: 0.9995     \n",
      "Epoch 46/50\n",
      "60000/60000 [==============================] - 1s - loss: 0.0015 - acc: 0.9996     \n",
      "Epoch 47/50\n",
      "60000/60000 [==============================] - 1s - loss: 0.0014 - acc: 0.9998     \n",
      "Epoch 48/50\n",
      "60000/60000 [==============================] - 1s - loss: 0.0018 - acc: 0.9996     \n",
      "Epoch 49/50\n",
      "60000/60000 [==============================] - 1s - loss: 0.0011 - acc: 0.9998     \n",
      "Epoch 50/50\n",
      "60000/60000 [==============================] - 1s - loss: 9.4309e-04 - acc: 0.9998     \n"
     ]
    },
    {
     "data": {
      "text/plain": [
       "<keras.callbacks.History at 0x7f9f80f93ba8>"
      ]
     },
     "execution_count": 12,
     "metadata": {},
     "output_type": "execute_result"
    }
   ],
   "source": [
    "network.fit(train_images, train_labels, epochs=50, batch_size =256)"
   ]
  },
  {
   "cell_type": "code",
   "execution_count": 13,
   "metadata": {},
   "outputs": [
    {
     "name": "stdout",
     "output_type": "stream",
     "text": [
      " 9920/10000 [============================>.] - ETA: 0stest_acc: 0.9833\n"
     ]
    }
   ],
   "source": [
    "test_loss,test_acc = network.evaluate(test_images,test_labels)\n",
    "print('test_acc:', test_acc)"
   ]
  }
 ],
 "metadata": {
  "kernelspec": {
   "display_name": "Python 3",
   "language": "python",
   "name": "python3"
  },
  "language_info": {
   "codemirror_mode": {
    "name": "ipython",
    "version": 3
   },
   "file_extension": ".py",
   "mimetype": "text/x-python",
   "name": "python",
   "nbconvert_exporter": "python",
   "pygments_lexer": "ipython3",
   "version": "3.6.3"
  }
 },
 "nbformat": 4,
 "nbformat_minor": 2
}
